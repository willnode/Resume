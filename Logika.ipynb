{
 "cells": [
  {
   "cell_type": "markdown",
   "metadata": {},
   "source": [
    "## Chapter I: Sets\n",
    "\n",
    "Subset \n",
    "\n",
    "+ `x Є A`: x adalah anggota dari himpunan A\n",
    "+ `A ⊆ B`: himpunan A ialah subset dari B\n",
    "+ `A = B`: Himpunan A adalah sama dengan B\n",
    "+ `A ∼ B`: Himpunan A adalah ekivalen dengan B\n",
    "\n",
    "Diagram:\n",
    "\n",
    "+ Euler: Tidak semua himpunan hari ada\n",
    "+ Venn: Digambar meski kosong\n",
    "\n",
    "Penulisan Himpunan:\n",
    "\n",
    "+ Enumerasi: `B = {1, 2, 3, 4, 5}`\n",
    "+ Simbol Standar:\n",
    "  - `P` = himpunan bilangan integer positif = {1 , 2, 3, ...}\n",
    "  - `Q` = himpunan bilangan natural = {0 , 1, 2, ...}\n",
    "  - `Z` = himpunan bilangan rasional = {... , -2, -1, 0, 1, 2, ...}\n",
    "+ Notasi pembentuk himpunan: `B = { x | x ≤ 5 , x ∈ A }`\n",
    "\n",
    "Himpunan Khusus:\n",
    "\n",
    "+ Himpunan universal: `S` atau `U`\n",
    "+ Himpunan kosong: `{}` atau `∅`\n",
    "\n",
    "Operasi Himpunan:\n",
    "\n",
    "+ `A ∩ B`: Intersection - Irisan\n",
    "+ `A ∪ B`: Union - Gabungan \n",
    "+ `A – B`: Difference - Selisih (`A ∩ B'`)\n",
    "+ `Aᶜ`: Complement - Komplemen (`S - A`)\n",
    "\n",
    "## Chapter II: Proporsi\n",
    "\n",
    "+ Logika adalah suatu sistem yang didasarkan pada proposisi.\n",
    "+ Suatu proposisi adalah sebuah pernyataan yang bisa bernilai benar (`true`) atau salah (`false`) tetapi tidak sekaligus keduanya.\n",
    "+ Nilai kebenaran (truth value) dari sebuah proposisi adalah benar atau salah dimana dalam rangkaian digital, nilai ini dinyatakan sebagai 1 dan 0\n",
    "\n",
    "Operator Logika:\n",
    "\n",
    "#### Negasi (NOT) ($ \\neg $)\n",
    "\n",
    "P | $ \\neg P $ |\n",
    "---|---|\n",
    "1 | 0 |\n",
    "0 | 1 |\n",
    "\n",
    "#### Konjungsi (AND) \n",
    "\n",
    "\n",
    "\n",
    "## Chapter III: Logika Proposional\n",
    "\n",
    "\n",
    "\n"
   ]
  }
 ],
 "metadata": {
  "kernelspec": {
   "display_name": "Python 3",
   "language": "python",
   "name": "python3"
  },
  "language_info": {
   "codemirror_mode": {
    "name": "ipython",
    "version": 3
   },
   "file_extension": ".py",
   "mimetype": "text/x-python",
   "name": "python",
   "nbconvert_exporter": "python",
   "pygments_lexer": "ipython3",
   "version": "3.6.5"
  }
 },
 "nbformat": 4,
 "nbformat_minor": 2
}
