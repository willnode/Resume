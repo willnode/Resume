{
 "cells": [
  {
   "cell_type": "code",
   "execution_count": null,
   "metadata": {},
   "outputs": [],
   "source": [
    "x=5\n",
    "print(2*x**2)"
   ]
  },
  {
   "cell_type": "code",
   "execution_count": null,
   "metadata": {},
   "outputs": [],
   "source": [
    "print(7%3)\n",
    "print(3%7)\n",
    "print(7//3)\n",
    "print(3//7)\n",
    "\n",
    "print(7//3*3+7%3)"
   ]
  },
  {
   "cell_type": "code",
   "execution_count": null,
   "metadata": {},
   "outputs": [],
   "source": [
    "print(type(2))\n",
    "print(type(2.0))\n",
    "print(type(\"2\"))\n",
    "print(type(int(\"2\")))\n",
    "print(type(str(\"2\")))"
   ]
  },
  {
   "cell_type": "code",
   "execution_count": null,
   "metadata": {},
   "outputs": [],
   "source": [
    "print(2+3)\n",
    "print(2*3)\n",
    "print(\"2\"+\"3\")\n",
    "print(\"2\"*3)\n",
    "print(1, 2)"
   ]
  },
  {
   "cell_type": "code",
   "execution_count": null,
   "metadata": {},
   "outputs": [],
   "source": [
    "x=8\n",
    "if (x%2==0 and x>4):\n",
    "    print(\"ya\")\n",
    "else:\n",
    "    print(\"tidak\")"
   ]
  },
  {
   "cell_type": "code",
   "execution_count": null,
   "metadata": {},
   "outputs": [],
   "source": [
    "x=6\n",
    "if (x%2==0):\n",
    "    if (x%3==0):\n",
    "        print(\"*\"*x)\n",
    "    print(\"^\"*x)\n",
    "else:\n",
    "    print(\"-\"*x)"
   ]
  },
  {
   "cell_type": "code",
   "execution_count": null,
   "metadata": {},
   "outputs": [],
   "source": [
    "x=100\n",
    "if (x>100):\n",
    "    print(\"lebih dari 100\")\n",
    "if (x>50):\n",
    "    print(\"lebih dari 50\")\n",
    "if (x>20):\n",
    "    print(\"lebih dari 20\")\n",
    "if (x>0):\n",
    "    print(\"lebih dari 0\")"
   ]
  },
  {
   "cell_type": "code",
   "execution_count": null,
   "metadata": {},
   "outputs": [],
   "source": [
    "for i in range(10):\n",
    "    print(i*2+1)"
   ]
  },
  {
   "cell_type": "code",
   "execution_count": null,
   "metadata": {},
   "outputs": [],
   "source": [
    "for i in range(1,10):\n",
    "    print(\"*\"*i)"
   ]
  },
  {
   "cell_type": "code",
   "execution_count": null,
   "metadata": {},
   "outputs": [],
   "source": [
    "for i in range(10):\n",
    "    print(\"-\"*i, \"+\"*(10-i))"
   ]
  },
  {
   "cell_type": "code",
   "execution_count": null,
   "metadata": {},
   "outputs": [],
   "source": [
    "for i in range(10):\n",
    "    if i%2==0:\n",
    "        print(\"*\")\n",
    "    else:\n",
    "        print(\"-\")"
   ]
  },
  {
   "cell_type": "code",
   "execution_count": null,
   "metadata": {},
   "outputs": [],
   "source": [
    "for x in range(3):\n",
    "    for y in range(4):\n",
    "        print(x, y)    "
   ]
  },
  {
   "cell_type": "code",
   "execution_count": null,
   "metadata": {},
   "outputs": [],
   "source": [
    "a=4\n",
    "while a<=10 or a%2!=0:\n",
    "    print(a)\n",
    "    a=a+1"
   ]
  },
  {
   "cell_type": "code",
   "execution_count": null,
   "metadata": {},
   "outputs": [],
   "source": [
    "a=4\n",
    "stop=False\n",
    "while not(stop):\n",
    "    if a%2==0:\n",
    "        print('genap')\n",
    "    else:\n",
    "        print('ganjil')\n",
    "        stop=True\n",
    "    a=a+1"
   ]
  },
  {
   "cell_type": "code",
   "execution_count": null,
   "metadata": {},
   "outputs": [],
   "source": [
    "def dodo(a,b):\n",
    "    if (b>0):\n",
    "        return dodo(a*b, b-1)\n",
    "    else:\n",
    "        return a\n",
    "\n",
    "dodo(5,3)"
   ]
  },
  {
   "cell_type": "code",
   "execution_count": null,
   "metadata": {},
   "outputs": [],
   "source": [
    "def dodo(a,b):\n",
    "    if (b>0):\n",
    "        return dodo(a*b, b-1)\n",
    "    else:\n",
    "        return a\n",
    "\n",
    "dodo(5,3)"
   ]
  },
  {
   "cell_type": "code",
   "execution_count": null,
   "metadata": {},
   "outputs": [],
   "source": [
    "print((\"Halo halo bandung\")[5:9])"
   ]
  }
 ],
 "metadata": {
  "kernelspec": {
   "display_name": "Python 3",
   "language": "python",
   "name": "python3"
  },
  "language_info": {
   "codemirror_mode": {
    "name": "ipython",
    "version": 3
   },
   "file_extension": ".py",
   "mimetype": "text/x-python",
   "name": "python",
   "nbconvert_exporter": "python",
   "pygments_lexer": "ipython3",
   "version": "3.7.0"
  }
 },
 "nbformat": 4,
 "nbformat_minor": 2
}
