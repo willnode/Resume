{
 "cells": [
  {
   "cell_type": "markdown",
   "metadata": {},
   "source": [
    "## Ceklist CTF\n",
    "\n",
    "CTF adalah kompetisi untuk mencari celah untuk mencari kelemahan suatu aplikasi baik yang merugikan untuk client (membobol/mengambil alih akses suatu akun) atau server (meretas/memanipulasi data non-publik server).\n",
    "\n",
    "CTF mencari celah melalui input user kepada server, celah-celah antara lain:\n",
    "+ HTML Form (POST)\n",
    "+ URL Parameter (GET)\n",
    "+ Text Input/Text Area\n",
    "+ Website Cookie"
   ]
  },
  {
   "cell_type": "markdown",
   "metadata": {},
   "source": [
    "## XSS\n",
    "\n",
    "XSS adalah kelemahan dimana input user tidak difilter secara benar sehingga user bebas memasukkan Elemen HTML didalamnya, termasuk Javascript\n",
    "\n",
    "Ciri-ciri:\n",
    "+ Error muncul/HTML Tidak ter-escape jika dimasukkan karakter: `<>/` (atau `'\"` jika didalam HTML Parameter)\n",
    "\n",
    "#### Payload (JS `alert()`):\n",
    "+ `<script>alert()</script>`\n",
    "+ `<img url=x onerror=alert()>`\n",
    "\n",
    "#### Dampak:\n",
    "+ Payload dari hacker dapat tereksekusi 'seolah-olah' seperti si korban yang melakukannya\n",
    "+ Pembobolan data non-publik: data login, password, cookie, dsb.\n",
    "\n",
    "#### Real world Case:\n",
    "Sammy Worm\n",
    "> Sammy menemukan Persistent XSS dalam MySpace sehingga "
   ]
  },
  {
   "cell_type": "markdown",
   "metadata": {},
   "source": [
    "## SQL Injection\n",
    "\n",
    "Ciri-ciri:\n",
    "+ SQL Error jika dimasukkan karakter `'` atau `\"`\n",
    "\n",
    "Payload (SQL `union select 1`)\n",
    "+ `' union alert 1--`"
   ]
  },
  {
   "cell_type": "markdown",
   "metadata": {},
   "source": [
    "## IDOR"
   ]
  },
  {
   "cell_type": "markdown",
   "metadata": {},
   "source": [
    "## Encryption\n",
    "\n",
    "\n",
    "#### Jenis-jenis Enkripsi\n",
    "+ Base64\n",
    "+ AES\n",
    "\n",
    "#### Jenis-jenis Algoritma Hash\n",
    "+ MD5\n",
    "+ SHA1\n",
    "+ SHA256"
   ]
  }
 ],
 "metadata": {
  "kernelspec": {
   "display_name": "Python 3",
   "language": "python",
   "name": "python3"
  },
  "language_info": {
   "codemirror_mode": {
    "name": "ipython",
    "version": 3
   },
   "file_extension": ".py",
   "mimetype": "text/x-python",
   "name": "python",
   "nbconvert_exporter": "python",
   "pygments_lexer": "ipython3",
   "version": "3.6.5"
  }
 },
 "nbformat": 4,
 "nbformat_minor": 2
}
