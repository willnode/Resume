{
 "cells": [
  {
   "cell_type": "markdown",
   "metadata": {},
   "source": [
    "Dosen Pembimbing: Indah Agustien Siradjuddin\n",
    "\n",
    "Bahasa Pemrograman: Python\n",
    "\n",
    "## Pertemuan II\n",
    "\n",
    "Jenis Pemrograman:\n",
    "- Low Level: Bahasa Komputer (Assembly)\n",
    "- High Level: Bahasa Programman (Python, Java, Dsb.)\n",
    "\n",
    "Mode Penulisan:\n",
    "- Console/Command Line Mode: Penulisan untuk test\n",
    "- Script Mode: Penulisan Program secara pebuh\n",
    "\n",
    "Jenis Eksekusi:\n",
    "- Compiler: Eksekusi Script sekaligus\n",
    "- Interpreter: Eksekusi Script secara instan\n",
    "\n",
    "Jenis Error:\n",
    "- Syntax Error: Error sebelum program dimulai\n",
    "- Runtime Error: Error saat program tengah dijalankan\n",
    "- Semantic Error: Program mengeluarkan output yang tidak diharapkan\n",
    "\n",
    "Tipe data Python:\n",
    "- String (str): Kata-kata (ditulis dalam petik)\n",
    "- Integer (int): Bilangan Bulat\n",
    "- Float (float): Bilangan Real\n",
    "- Boolean (bool): True/False\n",
    "\n",
    "Fungsi-fungsi Python:\n",
    "- print(): Output teks ke python\n",
    "- type(): Cek tipe data variabel\n",
    "- input(): Input teks dari pyhon\n",
    "\n",
    "Rumus variable:\n",
    "- Case Sensitive\n",
    "- Tanpa ada suku kata\n",
    "- Tidak dimulai dengan angka\n",
    "\n",
    "Operator Python:\n",
    "- Kurung ()\n",
    "- Tambah +\n",
    "- Kurang -\n",
    "- Kali *\n",
    "- Pembagian /\n",
    "- Pembagian Bulat //\n",
    "- Pangkat **\n",
    "- Modulo %\n",
    "\n",
    "Comment Python:"
   ]
  },
  {
   "cell_type": "code",
   "execution_count": null,
   "metadata": {},
   "outputs": [],
   "source": [
    "# Satu baris comment\n",
    "\n",
    "'''\n",
    "Comment beberapa baris sekaligus\n",
    "'''"
   ]
  },
  {
   "cell_type": "markdown",
   "metadata": {},
   "source": [
    "## Pertemuan III\n",
    "\n",
    "Algoritma: Tahap-tahap software\n",
    "Program: Syntax software\n",
    "\n",
    "Setiap algoritma mempunyai tahap-tahap yang memproses input dan mengeluarkan hasil output yang berbeda.\n",
    "\n",
    "Contoh Program Python:"
   ]
  },
  {
   "cell_type": "code",
   "execution_count": null,
   "metadata": {},
   "outputs": [],
   "source": [
    "'''\n",
    "Input: Jari-jari lingkaran\n",
    "Output: Luas lingkaran\n",
    "\n",
    "Algo:\n",
    "- read(jarijari)\n",
    "- luas <- 3.14*jarijari**2\n",
    "- print(luas)\n",
    "'''\n",
    "\n",
    "jarijari = float(input(\"Masukkan Jari-jari: \"))\n",
    "luas = 3.14*jarijari**2\n",
    "print(\"Luas jari-jari:\", luas)"
   ]
  },
  {
   "cell_type": "code",
   "execution_count": null,
   "metadata": {},
   "outputs": [],
   "source": [
    "'''\n",
    "Input: Dua buah angka\n",
    "Output: Penjumlahan dua buah angka\n",
    "\n",
    "Algo:\n",
    "- read(a,b)\n",
    "- jumlah <- a+b\n",
    "- print(jumlah)\n",
    "'''\n",
    "\n",
    "a=float(input(\"Masukkan A: \"))\n",
    "b=float(input(\"Masukkan B: \"))\n",
    "jumlah=a+b\n",
    "print(\"Hasil penjumlahan:\", jumlah)"
   ]
  },
  {
   "cell_type": "code",
   "execution_count": null,
   "metadata": {},
   "outputs": [],
   "source": [
    "'''\n",
    "Input: Fahrenheit\n",
    "Output: Celcius\n",
    "\n",
    "Algo:\n",
    "- read(f)\n",
    "- c <- (f-32)*5/9\n",
    "- print(c)\n",
    "'''\n",
    "\n",
    "f=float(input(\"Masukkan Fahrenheit: \"))\n",
    "c=(f-32)*5/9\n",
    "print(\"Hasil Celcius: \", c)"
   ]
  },
  {
   "cell_type": "markdown",
   "metadata": {},
   "source": [
    "Jenis Algoritma:\n",
    "- Sequence\n",
    "- Branching\n",
    "- Iteration\n",
    "\n",
    "Ekspresi Boolean:\n",
    "\n",
    "Relasi:\n",
    "- `x==y`: Sama dengan\n",
    "- `x!=y`: Tidak sama dengan\n",
    "- `x>y`: Lebih dari\n",
    "- `x<y`: Kurang dari\n",
    "- `x>=y`: Lebih dari atau sama dengan\n",
    "- `x<=y`: Kurang dari atau sama dengan\n",
    "\n",
    "Logika:\n",
    "- `and`: Jika kedua logika benar\n",
    "- `or`: Jika salah satu logika benar\n",
    "- `not`: Membalikkan logika"
   ]
  }
 ],
 "metadata": {
  "kernelspec": {
   "display_name": "Python 3",
   "language": "python",
   "name": "python3"
  },
  "language_info": {
   "codemirror_mode": {
    "name": "ipython",
    "version": 3
   },
   "file_extension": ".py",
   "mimetype": "text/x-python",
   "name": "python",
   "nbconvert_exporter": "python",
   "pygments_lexer": "ipython3",
   "version": "3.7.0"
  }
 },
 "nbformat": 4,
 "nbformat_minor": 2
}
